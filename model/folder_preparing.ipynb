{
 "cells": [
  {
   "cell_type": "code",
   "execution_count": 1,
   "id": "356fed70-51f9-4419-bcdd-9f320c8f7164",
   "metadata": {},
   "outputs": [
    {
     "data": {
      "text/plain": [
       "120"
      ]
     },
     "execution_count": 1,
     "metadata": {},
     "output_type": "execute_result"
    }
   ],
   "source": [
    "import os \n",
    "main_path = 'images' # path where you have images of dogs from https://www.kaggle.com/datasets/jessicali9530/stanford-dogs-dataset\n",
    "\n",
    "directories = []\n",
    "\n",
    "for it in os.scandir(main_path):\n",
    "    if it.is_dir():\n",
    "        directories.append(it.path[7:])\n",
    "\n",
    "len(directories)"
   ]
  },
  {
   "cell_type": "code",
   "execution_count": 2,
   "id": "9b5857b3-cf3a-4351-821d-010014f6eccc",
   "metadata": {},
   "outputs": [],
   "source": [
    "for i in range(len(directories)):\n",
    "    os.makedirs(f\"data/test/{directories[i]}\")\n",
    "    os.makedirs(f\"data/train/{directories[i]}\")"
   ]
  },
  {
   "cell_type": "code",
   "execution_count": 3,
   "id": "1141ae89-61b4-4686-b43f-e5ba6abf70f9",
   "metadata": {},
   "outputs": [],
   "source": [
    "from glob import glob\n",
    "from os.path import join, basename\n",
    "from shutil import copyfile\n",
    "\n",
    "for i in range(int(len(directories))):\n",
    "    src_dir = f\"images/{directories[i]}\"\n",
    "    dst_dir = f\"data/train/{directories[i]}\"\n",
    "\n",
    "    file_count = len([entry for entry in os.listdir(src_dir) if os.path.isfile(os.path.join(src_dir, entry))])\n",
    "    train_file_count = int(0.8 * file_count)\n",
    "    for jpg in glob(join(src_dir, \"*.jpg\"))[:train_file_count]:\n",
    "        copyfile(jpg, join(dst_dir, basename(jpg)))"
   ]
  },
  {
   "cell_type": "code",
   "execution_count": 4,
   "id": "cd99cdea-7df4-43cb-954f-f2f865222ce0",
   "metadata": {},
   "outputs": [],
   "source": [
    "for i in range(int(len(directories))):\n",
    "    src_dir = f\"images/{directories[i]}\"\n",
    "    dst_dir = f\"data/test/{directories[i]}\"\n",
    "\n",
    "    file_count = len([entry for entry in os.listdir(src_dir) if os.path.isfile(os.path.join(src_dir, entry))])\n",
    "    train_file_count = int(0.8 * file_count)\n",
    "    for jpg in glob(join(src_dir, \"*.jpg\"))[train_file_count:]:\n",
    "        copyfile(jpg, join(dst_dir, basename(jpg)))"
   ]
  },
  {
   "cell_type": "code",
   "execution_count": 9,
   "id": "570669d4-11ec-4de4-850e-c61eb21b9b8b",
   "metadata": {},
   "outputs": [],
   "source": [
    "#The same with data_demo\n",
    "for i in range(10):\n",
    "    os.makedirs(f\"data_demo/test/{directories[i]}\")\n",
    "    os.makedirs(f\"data_demo/train/{directories[i]}\")\n",
    "\n",
    "for i in range(10):\n",
    "    src_dir = f\"images/{directories[i]}\"\n",
    "    dst_dir = f\"data_demo/train/{directories[i]}\"\n",
    "\n",
    "    file_count = len([entry for entry in os.listdir(src_dir) if os.path.isfile(os.path.join(src_dir, entry))])\n",
    "    train_file_count = int(0.8 * file_count)\n",
    "    for jpg in glob(join(src_dir, \"*.jpg\"))[:train_file_count]:\n",
    "        copyfile(jpg, join(dst_dir, basename(jpg)))\n",
    "\n",
    "for i in range(10):\n",
    "    src_dir = f\"images/{directories[i]}\"\n",
    "    dst_dir = f\"data_demo/test/{directories[i]}\"\n",
    "\n",
    "    file_count = len([entry for entry in os.listdir(src_dir) if os.path.isfile(os.path.join(src_dir, entry))])\n",
    "    train_file_count = int(0.8 * file_count)\n",
    "    for jpg in glob(join(src_dir, \"*.jpg\"))[train_file_count:]:\n",
    "        copyfile(jpg, join(dst_dir, basename(jpg)))"
   ]
  },
  {
   "cell_type": "code",
   "execution_count": null,
   "id": "af120bf2-8550-4b27-9d6f-e555230a76fd",
   "metadata": {},
   "outputs": [],
   "source": []
  }
 ],
 "metadata": {
  "kernelspec": {
   "display_name": "Python 3 (ipykernel)",
   "language": "python",
   "name": "python3"
  },
  "language_info": {
   "codemirror_mode": {
    "name": "ipython",
    "version": 3
   },
   "file_extension": ".py",
   "mimetype": "text/x-python",
   "name": "python",
   "nbconvert_exporter": "python",
   "pygments_lexer": "ipython3",
   "version": "3.11.2"
  }
 },
 "nbformat": 4,
 "nbformat_minor": 5
}
